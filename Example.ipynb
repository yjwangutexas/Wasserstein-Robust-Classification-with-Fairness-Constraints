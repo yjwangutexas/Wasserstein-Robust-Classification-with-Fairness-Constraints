{
 "cells": [
  {
   "cell_type": "markdown",
   "metadata": {},
   "source": [
    "#### This notebook provides a example of how to invoke the DRO methods in practice. There are three methods implemented in DROFairModels: DRFPROB, DRFSVM, DRFLR. "
   ]
  },
  {
   "cell_type": "code",
   "execution_count": 1,
   "metadata": {},
   "outputs": [],
   "source": [
    "%load_ext autoreload\n",
    "%autoreload 2"
   ]
  },
  {
   "cell_type": "code",
   "execution_count": 6,
   "metadata": {},
   "outputs": [],
   "source": [
    "from matplotlib.colors import ListedColormap\n",
    "from matplotlib import colors as mcolors\n",
    "import math\n",
    "import numpy as np\n",
    "import matplotlib.pyplot as plt  # for plotting stuff\n",
    "from random import seed\n",
    "from scipy.stats import multivariate_normal  # generating synthetic data\n",
    "from collections import namedtuple\n",
    "from DROFairModels import DROFairModels\n",
    "from collections import defaultdict\n",
    "from sklearn import preprocessing\n",
    "from sklearn import svm\n",
    "from sklearn.model_selection import GridSearchCV\n",
    "from Linear_Ferm_SVM1 import Linear_FERM\n",
    "# from fair_logloss import EOPP_fair_logloss_classifier\n",
    "import pandas as pd\n",
    "import os\n",
    "from random import shuffle\n",
    "import warnings\n",
    "warnings.filterwarnings('ignore')\n",
    "from toolbox import *"
   ]
  },
  {
   "cell_type": "code",
   "execution_count": 7,
   "metadata": {},
   "outputs": [],
   "source": [
    "current_path=os.getcwd()\n",
    "SEED = 1\n",
    "seed(SEED)\n",
    "np.random.seed(SEED)\n",
    "rng = np.random.RandomState(SEED)"
   ]
  },
  {
   "cell_type": "code",
   "execution_count": 8,
   "metadata": {},
   "outputs": [
    {
     "name": "stdout",
     "output_type": "stream",
     "text": [
      "加载心律失常数据集..\n",
      "敏感特征 1 的不同取值: {0.0, 1.0}\n"
     ]
    }
   ],
   "source": [
    "X, y, a = load_arrhythmia()\n",
    "X, y, a = load_compas_data()\n",
    "\n",
    "n_train_samples = 100\n",
    "y[y==0] = -1\n",
    "true_P_11, true_P_01, true_P_10, true_P_00 = get_marginals(a, y)\n",
    "emp_marginals = [true_P_11, true_P_01, true_P_10, true_P_00]\n",
    "\n",
    "\n",
    "\n",
    "X_train, a_train, y_train, X_test, a_test, y_test, threshold = stratified_sampling(\n",
    "    X=X,\n",
    "    a=a,\n",
    "    y=y, emp_marginals=emp_marginals,\n",
    "    n_train_samples=n_train_samples)\n",
    "\n",
    "y_train[y_train==0] = -1\n",
    "y_test[y_test==0] = -1\n",
    "train_P_11, train_P_01, _, _ = get_marginals(a_train, y_train)\n",
    "max_eta = min(train_P_11,train_P_01)/2\n"
   ]
  },
  {
   "cell_type": "markdown",
   "metadata": {},
   "source": [
    "#### You can call the DROFairModels class with specific method name and selected parameters to run the fair classifiers. For the sake of simplicity, we eliminate the tunning process and use two-sided unfairness measure as an illustration. "
   ]
  },
  {
   "cell_type": "code",
   "execution_count": 9,
   "metadata": {},
   "outputs": [
    {
     "name": "stdout",
     "output_type": "stream",
     "text": [
      "Testing Accuracy of DRFPROB:0.640\n",
      "Testing Fscore of DRFPROB:0.624\n",
      "Testing Fairness of DRFPROB:0.219\n",
      "Testing Accuracy of DRFSVM:0.636\n",
      "Testing Fscore of DRFSVM:0.541\n",
      "Testing Fairness of DRFSVM:0.243\n",
      "Testing Accuracy of DRFLR:0.641\n",
      "Testing Fscore of DRFSVM:0.538\n",
      "Testing Fairness of DRFLR:0.235\n"
     ]
    }
   ],
   "source": [
    "# An example of DRFPROB\n",
    "clf=DROFairModels(reg=0.1, radius=0.01, epsilon=0.01,\n",
    "                                      verbose=False, fit_intercept=True, mode = 'DRFPROB', side='two')\n",
    "clf.fit(X=X_train, a=a_train, y=y_train)\n",
    "print(f'Testing Accuracy of DRFPROB:{clf.score(X_test,y_test):.3f}')\n",
    "print(f'Testing Fscore of DRFPROB:{clf.Fscore(X_test,y_test):.3f}')\n",
    "print(f'Testing Fairness of DRFPROB:{clf.unfairness(X_test,a_test,y_test).det_unfairness:.3f}')\n",
    "\n",
    "# # An example of DRFSVM\n",
    "clf=DROFairModels(reg=1.1, radius=0.01, epsilon=0.01,\n",
    "                                      verbose=False, fit_intercept=True, mode = 'DRFSVM', side='two')\n",
    "clf.fit(X=X_train, a=a_train, y=y_train)\n",
    "print(f'Testing Accuracy of DRFSVM:{clf.score(X_test,y_test):.3f}')\n",
    "print(f'Testing Fscore of DRFSVM:{clf.Fscore(X_test,y_test):.3f}')\n",
    "print(f'Testing Fairness of DRFSVM:{clf.unfairness(X_test,a_test,y_test).det_unfairness:.3f}')\n",
    "\n",
    "# An example of DRFLR\n",
    "clf=DROFairModels(reg=0.1, radius=0.01, epsilon=0.01,\n",
    "                                      verbose=False, fit_intercept=True, mode = 'DRFLR')\n",
    "clf.fit(X=X_train, a=a_train, y=y_train)\n",
    "\n",
    "print(f'Testing Accuracy of DRFLR:{clf.score(X_test,y_test):.3f}')\n",
    "print(f'Testing Fscore of DRFSVM:{clf.Fscore(X_test,y_test):.3f}')\n",
    "print(f'Testing Fairness of DRFLR:{clf.unfairness(X_test,a_test,y_test).det_unfairness:.3f}')"
   ]
  },
  {
   "cell_type": "markdown",
   "metadata": {},
   "source": [
    "#### For imbalanced dataset, decison makers can consider adopt balaced accuracy as the objective. In general, it yield much higher F-score"
   ]
  },
  {
   "cell_type": "code",
   "execution_count": 10,
   "metadata": {},
   "outputs": [
    {
     "name": "stdout",
     "output_type": "stream",
     "text": [
      "Loading Drug (black vs others) dataset...\n"
     ]
    }
   ],
   "source": [
    "X, y, a = load_drug_data()\n",
    "n_train_samples = 100\n",
    "y[y==0] = -1\n",
    "true_P_11, true_P_01, true_P_10, true_P_00 = get_marginals(a, y)\n",
    "emp_marginals = [true_P_11, true_P_01, true_P_10, true_P_00]\n",
    "\n",
    "\n",
    "\n",
    "X_train, a_train, y_train, X_test, a_test, y_test, threshold = stratified_sampling(\n",
    "    X=X,\n",
    "    a=a,\n",
    "    y=y, emp_marginals=emp_marginals,\n",
    "    n_train_samples=n_train_samples)\n",
    "\n",
    "y_train[y_train==0] = -1\n",
    "y_test[y_test==0] = -1\n",
    "train_P_11, train_P_01, _, _ = get_marginals(a_train, y_train)\n",
    "max_eta = min(train_P_11,train_P_01)/2"
   ]
  },
  {
   "cell_type": "code",
   "execution_count": 22,
   "metadata": {},
   "outputs": [
    {
     "name": "stdout",
     "output_type": "stream",
     "text": [
      "Testing Accuracy of DRFPROB:0.724\n",
      "Testing Fscore of DRFPROB:0.500\n",
      "Testing Fairness of DRFPROB:0.028\n",
      "Testing Accuracy of DRFSVM:0.718\n",
      "Testing Fscore of DRFSVM:0.540\n",
      "Testing Fairness of DRFSVM:0.031\n",
      "Testing Accuracy of DRFLR:0.774\n",
      "Testing Fscore of DRFSVM:0.324\n",
      "Testing Fairness of DRFLR:0.029\n"
     ]
    }
   ],
   "source": [
    "# An example of DRFPROB\n",
    "clf=DROFairModels(reg=0.1, radius=0.01, epsilon=0.01,\n",
    "                                      verbose=False, fit_intercept=True, mode = 'DRFPROB', side='two',balanced_accuracy=True)\n",
    "clf.fit(X=X_train, a=a_train, y=y_train)\n",
    "print(f'Testing Accuracy of DRFPROB:{clf.score(X_test,y_test):.3f}')\n",
    "print(f'Testing Fscore of DRFPROB:{clf.Fscore(X_test,y_test):.3f}')\n",
    "print(f'Testing Fairness of DRFPROB:{clf.unfairness(X_test,a_test,y_test).det_unfairness:.3f}')\n",
    "\n",
    "\n",
    "# # An example of DRFSVM\n",
    "clf=DROFairModels(reg=1.1, radius=0.01, epsilon=0.01,\n",
    "                                      verbose=False, fit_intercept=True, mode = 'DRFSVM', side='two',balanced_accuracy=True)\n",
    "clf.fit(X=X_train, a=a_train, y=y_train)\n",
    "print(f'Testing Accuracy of DRFSVM:{clf.score(X_test,y_test):.3f}')\n",
    "print(f'Testing Fscore of DRFSVM:{clf.Fscore(X_test,y_test):.3f}')\n",
    "print(f'Testing Fairness of DRFSVM:{clf.unfairness(X_test,a_test,y_test).det_unfairness:.3f}')\n",
    "\n",
    "# An example of DRFLR\n",
    "clf=DROFairModels(reg=0.1, radius=0.01, epsilon=0.01,\n",
    "                                      verbose=False, fit_intercept=True, mode = 'DRFLR')\n",
    "clf.fit(X=X_train, a=a_train, y=y_train)\n",
    "\n",
    "print(f'Testing Accuracy of DRFLR:{clf.score(X_test,y_test):.3f}')\n",
    "print(f'Testing Fscore of DRFSVM:{clf.Fscore(X_test,y_test):.3f}')\n",
    "print(f'Testing Fairness of DRFLR:{clf.unfairness(X_test,a_test,y_test).det_unfairness:.3f}')"
   ]
  }
 ],
 "metadata": {
  "kernelspec": {
   "display_name": "env1",
   "language": "python",
   "name": "python3"
  },
  "language_info": {
   "codemirror_mode": {
    "name": "ipython",
    "version": 3
   },
   "file_extension": ".py",
   "mimetype": "text/x-python",
   "name": "python",
   "nbconvert_exporter": "python",
   "pygments_lexer": "ipython3",
   "version": "3.11.4"
  }
 },
 "nbformat": 4,
 "nbformat_minor": 2
}
